{
 "cells": [
  {
   "cell_type": "markdown",
   "metadata": {},
   "source": [
    "### A not so simple problem"
   ]
  },
  {
   "cell_type": "markdown",
   "metadata": {},
   "source": [
    "In trying to predict whether or not a movie will make money, screen writer William Goldman famously said, \"nobody knows anything.\"  Let's try to see if we gather any insight, and start at the beginning.  "
   ]
  },
  {
   "cell_type": "markdown",
   "metadata": {},
   "source": [
    "### The benefit of a buck"
   ]
  },
  {
   "cell_type": "markdown",
   "metadata": {},
   "source": [
    "Imagine we are hired as a consultant for a movie executive.  The movie executive receives a budget proposal, and wants to see how much money the movie might make.  We can help him by trying to see the relationship between money spent and on a movie, and money made. "
   ]
  },
  {
   "cell_type": "markdown",
   "metadata": {},
   "source": [
    "Here are five movies:"
   ]
  },
  {
   "cell_type": "code",
   "execution_count": 2,
   "metadata": {
    "collapsed": true
   },
   "outputs": [],
   "source": [
    "movies = [{'title': 'American Hustle', 'budget': 40000000, 'revenue': 148430908}, {'title': 'Captain Phillips', 'budget': 55000000, 'revenue': 107136417}, {'title': 'Frozen', 'budget': 150000000, 'revenue': 393050114}, {'title': 'Gravity', 'budget': 110000000, 'revenue': 271814796}, {'title': 'Despicable Me 2', 'budget': 76000000, 'revenue': 368065385}]"
   ]
  },
  {
   "cell_type": "markdown",
   "metadata": {},
   "source": [
    "### Plotting the Data"
   ]
  },
  {
   "cell_type": "markdown",
   "metadata": {},
   "source": [
    "Remember that when we want to plot data, we translate the values to X and Y values.  We'll have `budget` as the x value and the y value as `domgross`.  Let's just plot a few movies to get started."
   ]
  },
  {
   "cell_type": "code",
   "execution_count": null,
   "metadata": {},
   "outputs": [
    {
     "data": {
      "text/html": [
       "<script>requirejs.config({paths: { 'plotly': ['https://cdn.plot.ly/plotly-latest.min']},});if(!window.Plotly) {{require(['plotly'],function(plotly) {window.Plotly=plotly;});}}</script>"
      ],
      "text/vnd.plotly.v1+html": [
       "<script>requirejs.config({paths: { 'plotly': ['https://cdn.plot.ly/plotly-latest.min']},});if(!window.Plotly) {{require(['plotly'],function(plotly) {window.Plotly=plotly;});}}</script>"
      ]
     },
     "metadata": {},
     "output_type": "display_data"
    }
   ],
   "source": [
    "import plotly\n",
    "from plotly import graph_objs\n",
    "\n",
    "plotly.offline.init_notebook_mode(connected=True)\n",
    "\n",
    "from IPython.core.display import HTML, display\n",
    "display(HTML('./revenue-spend.html'))"
   ]
  },
  {
   "cell_type": "markdown",
   "metadata": {},
   "source": [
    "What plotting this data shows us is that as the movie budget increases the movie revenue tends to increase.  For example, look at point furthest left.  That point represents the movie \"American Hustle\", with 40 million dollars spent and 148 million dollars earned domestically.  Gravity spent over twice as much and earned almost twice as much.\n",
    "\n",
    "So, at least we now know something.\n",
    "\n",
    "Ok, now imagine our movie executive tells us that a movie came across his desk with a budget of $55 million.  Based on the data we graphed, how much money do you think the movie would bring in?"
   ]
  },
  {
   "cell_type": "markdown",
   "metadata": {},
   "source": [
    "### Drawing a line"
   ]
  },
  {
   "cell_type": "markdown",
   "metadata": {},
   "source": [
    "To predict movie revenue based on a budget, let's draw a single straight line that approximates the relationship between a movie's budget and revenue using our previous data as a benchmark.  Below, we draw a line. Later, we'll worry about how well a line like the one below describes our data.  For now, let's use this.   "
   ]
  },
  {
   "cell_type": "markdown",
   "metadata": {
    "collapsed": true
   },
   "source": [
    "![](./plot-intersect.png)"
   ]
  },
  {
   "cell_type": "markdown",
   "metadata": {},
   "source": [
    "One of the benefits of using a line is that we can see how much money will be brought in for any point on this line.  All we need to do is look at a given $x$ value, and find the y value of the line at that point. So spend 50 million, and expect to bring in about 63 million.  Spend 10 million, and expect to bring in 17 million.  This approach of modeling a relationship between an input and an output is called **linear regression**. \n",
    "\n",
    "But instead of just having this line visually, we would also like to represent this line with a function. This way instead of us needing to see the $y$ value of the line at a given point of $x$, we can simply write a function that gives us that same information.  \n",
    "\n",
    "Let's take an initial (wrong) guess as to how to turn this line into a function.  First we represent the line as a mathematical formula:\n",
    "\n",
    "$y = x$\n",
    "\n",
    "And then we turn this formula into a function:"
   ]
  },
  {
   "cell_type": "code",
   "execution_count": 5,
   "metadata": {},
   "outputs": [
    {
     "data": {
      "text/plain": [
       "0"
      ]
     },
     "execution_count": 5,
     "metadata": {},
     "output_type": "execute_result"
    }
   ],
   "source": [
    "def y(x):\n",
    "    return x\n",
    "\n",
    "y(0)"
   ]
  },
  {
   "cell_type": "code",
   "execution_count": 6,
   "metadata": {},
   "outputs": [
    {
     "data": {
      "text/plain": [
       "10000000"
      ]
     },
     "execution_count": 6,
     "metadata": {},
     "output_type": "execute_result"
    }
   ],
   "source": [
    "y(10000000)"
   ]
  },
  {
   "cell_type": "markdown",
   "metadata": {},
   "source": [
    "This is pretty nice.  I just wrote a function that will automatically calculate the expected revenue given a movie budget.  This function says that for every value of $x$ that I input to the function, I will get back an equal value $y$.  So according to the function, if the movie has a budget of 30 million, it will earn 30 million.  "
   ]
  },
  {
   "cell_type": "markdown",
   "metadata": {
    "collapsed": true
   },
   "source": [
    "But take a look at the line that we drew.  Our line says something different.  The line says that spending 30 million brings predicted earnings of 40 million.  \n",
    "\n",
    "So we need to change our function so that it lines up with our line.  In fact, we need a consistent way to turn lines into functions, and vice versa.  Ok, let's get to it.\n",
    "\n",
    "We can start by taking a look at our chart below, which shows how our line relates x-values and y-values -- that is budget, and revenue.\n",
    "\n",
    "| X (budget)       | Y (revenue)           | \n",
    "| ------------- |:-------------:| \n",
    "| 0      |0 | \n",
    "| 30 million      |40 million | \n",
    "| 60 million      |80 million | \n",
    "\n",
    "Ok, so now we need an equation that will allow us to input 0 and get back 0, input 30 million and get back 40 million, and input 60 million and get back 80 million?  What equation is that.\n",
    "\n",
    "Well it's $y = 4/3*x$.  Take a look to see for yourself.\n",
    "\n",
    "* 0 = 4/3 * 0\n",
    "* 40 million =  4/3 * 30 million \n",
    "* 80 million = 4/3 * 60 million \n",
    "\n",
    "Let's see it in the code, and then in the next section we'll show how we figured this out. \n",
    "\n",
    "Ok, this is what this formula looks like in code."
   ]
  },
  {
   "cell_type": "code",
   "execution_count": 7,
   "metadata": {},
   "outputs": [
    {
     "data": {
      "text/plain": [
       "40000000.0"
      ]
     },
     "execution_count": 7,
     "metadata": {},
     "output_type": "execute_result"
    }
   ],
   "source": [
    "def y(x):\n",
    "    return 4/3*x\n",
    "\n",
    "y(30000000)"
   ]
  },
  {
   "cell_type": "code",
   "execution_count": 8,
   "metadata": {},
   "outputs": [
    {
     "data": {
      "text/plain": [
       "0.0"
      ]
     },
     "execution_count": 8,
     "metadata": {},
     "output_type": "execute_result"
    }
   ],
   "source": [
    "y(0)"
   ]
  },
  {
   "cell_type": "markdown",
   "metadata": {},
   "source": [
    "Progress! So we added a number to multiply each value of $x$ by, 4/3.  And now, we can describe the line in our chart with a function that given a value of $x$, corresponds the value of $y$ along our graphed line.  "
   ]
  },
  {
   "cell_type": "markdown",
   "metadata": {},
   "source": [
    "### The Slope Variable "
   ]
  },
  {
   "cell_type": "markdown",
   "metadata": {},
   "source": [
    "What you just saw, that value of 4/3, is called the slope variable.  It's generally used in describing a line.  You will see represented generally as $m$ as in:\n",
    "\n",
    "$y = mx$ \n",
    "\n",
    "Let's make sure we understand what all of these variables stand for.  Here they are: \n",
    "\n",
    "* $y$: the value that is returned, also called the **response variable**, as it responds to values of $x$\n",
    "* $x$: the input variable, also called the **explanatory variable**, as it explains the value of $y$\n",
    "* $m$: the **slope variable**, determines how vertical or horizontal the line will be"
   ]
  },
  {
   "cell_type": "markdown",
   "metadata": {},
   "source": [
    "In our movie example, these terms make sense.  The $y$ value is our revenue earned from the movie, which we say is in response to our budget.  Our explanatory variable of our budget, $x$, explains our revenue, and the $m$ corresponds to our value of 1.33, which describes how much money is earned for each dollar spent.  So with this value of $m$, our line is saying that for every dollar spent expect to earn 1.33 dollars in return.  A $m$ of 2.0 would say that two dollars is earned for every dollar spent."
   ]
  },
  {
   "cell_type": "markdown",
   "metadata": {},
   "source": [
    "The variable $m$ is referred to as the slope variable because it refers to the slope of our line.  So a higher value of $m$ means a steeper line.  It also means that we expect a more money earned per dollar spent on our movies.  Imagine the line pivoting to a steeper tilt as we guess a higher amount of money earned per dollar spent.  "
   ]
  },
  {
   "cell_type": "markdown",
   "metadata": {},
   "source": [
    "![](./plot-intersect.png)"
   ]
  },
  {
   "cell_type": "markdown",
   "metadata": {},
   "source": [
    "### The y-intercept"
   ]
  },
  {
   "cell_type": "markdown",
   "metadata": {},
   "source": [
    "Ok, there is just one more thing that we need to be able to learn before being able to describe every straight line in a two dimensional world.  That is the y-intercept."
   ]
  },
  {
   "cell_type": "markdown",
   "metadata": {},
   "source": [
    "The y-intercept is the $y$ value of the line when it intersects the y-axis.  Or to put it another way, the y-intercept is the value of $y$ when $x$ equals zero. "
   ]
  },
  {
   "cell_type": "markdown",
   "metadata": {},
   "source": [
    "![](plot-add.png)"
   ]
  },
  {
   "cell_type": "markdown",
   "metadata": {},
   "source": [
    "So looking at the graph, what is the y intercept of the blue line?  Well it's the value of $y$ when the blue line crosses the y-axis.  That value is zero.  Now you can imagine shifting up the entire line up, so that the y-intercept increases to to 20 million, and that for every value of $x$, the corresponding value of $y$ increases by 20 million.  So our formula is no longer y = 4/3x.  It is $y = 4/3 x + 20,000,000$. \n",
    "\n",
    " Beyond determining the y-intercept from a line on a graph, you can also see the y-intercept by looking at a chart of points.  For example, in the chart below we can see that 20 million is our y-intercept.  After all, its the value of $y$, when $x$ is zero. "
   ]
  },
  {
   "cell_type": "markdown",
   "metadata": {
    "collapsed": true
   },
   "source": [
    "| X        | Y           | \n",
    "| ------------- |:-------------:| \n",
    "| 0      |20 million | \n",
    "| 30 million      |60 million | \n",
    "| 60 million      |100 million | "
   ]
  },
  {
   "cell_type": "markdown",
   "metadata": {},
   "source": [
    "Great, so now we have our all of the information we need to describe any straight line.  \n",
    "\n",
    "$y = mx + b $\n",
    "\n",
    "In this formula, $m$ is our slope of the line, and $b$ is the value of $y$ when $x$ equals zero.  So thinking about it graphically, increasing $m$ makes the line steeper, and increasing $b$ will raise up the line.   \n",
    "\n",
    "In the context of our movies, we said that the the line with values of $m$ = 4/3 and $b$ = 20 million describes our line, giving us $y = 4/3x + 20,000,000 $."
   ]
  },
  {
   "cell_type": "markdown",
   "metadata": {},
   "source": [
    "Now let's translate our formula into a function, so that for any input of $x$ it will return the value of $y$ along that line.  "
   ]
  },
  {
   "cell_type": "code",
   "execution_count": 9,
   "metadata": {
    "collapsed": true
   },
   "outputs": [],
   "source": [
    "def y(x):\n",
    "    return 4/3*x + 20000000"
   ]
  },
  {
   "cell_type": "code",
   "execution_count": 10,
   "metadata": {},
   "outputs": [
    {
     "data": {
      "text/plain": [
       "60000000.0"
      ]
     },
     "execution_count": 10,
     "metadata": {},
     "output_type": "execute_result"
    }
   ],
   "source": [
    "y(30000000)"
   ]
  },
  {
   "cell_type": "code",
   "execution_count": 11,
   "metadata": {},
   "outputs": [
    {
     "data": {
      "text/plain": [
       "100000000.0"
      ]
     },
     "execution_count": 11,
     "metadata": {},
     "output_type": "execute_result"
    }
   ],
   "source": [
    "y(60000000)"
   ]
  },
  {
   "cell_type": "markdown",
   "metadata": {},
   "source": [
    "### Summary"
   ]
  },
  {
   "cell_type": "markdown",
   "metadata": {
    "collapsed": true
   },
   "source": [
    "In this section, we saw how we can estimate the relationship between an input variable and an output.  We did so by plotting our points and then drawing a straight line right through them.  We can see any output on a line for a given input simply by looking at the y-value of the line at that point of $x$.  We then saw how to represent a line as a mathematical formula, and ultimately a function.  We can describe lines through the formula $y = mx + b $ where $m$ represents the slope of the line, and $b$ represents the value of $y$ when $x$ equals zero.  So our $b$ variable shifts the line up or down while the $m$ variable tilts the line forwards or backwards.  Then our formula tells us that given an input number of $x$ we can find an expected return value $y$.  Translating this formula into a function, we can write a function that returns an exepceted value of $y$ for a provided value of $x$."
   ]
  }
 ],
 "metadata": {
  "kernelspec": {
   "display_name": "Python 3",
   "language": "python",
   "name": "python3"
  },
  "language_info": {
   "codemirror_mode": {
    "name": "ipython",
    "version": 3
   },
   "file_extension": ".py",
   "mimetype": "text/x-python",
   "name": "python",
   "nbconvert_exporter": "python",
   "pygments_lexer": "ipython3",
   "version": "3.6.1"
  }
 },
 "nbformat": 4,
 "nbformat_minor": 2
}
